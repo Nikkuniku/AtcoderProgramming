{
 "nbformat": 4,
 "nbformat_minor": 2,
 "metadata": {
  "language_info": {
   "name": "python",
   "codemirror_mode": {
    "name": "ipython",
    "version": 3
   },
   "version": "3.7.6-final"
  },
  "orig_nbformat": 2,
  "file_extension": ".py",
  "mimetype": "text/x-python",
  "name": "python",
  "npconvert_exporter": "python",
  "pygments_lexer": "ipython3",
  "version": 3,
  "kernelspec": {
   "name": "python3",
   "display_name": "Python 3"
  }
 },
 "cells": [
  {
   "cell_type": "code",
   "execution_count": 8,
   "metadata": {},
   "outputs": [
    {
     "output_type": "stream",
     "name": "stdout",
     "text": "[1, 3, 5, -1, -3, -5, 3]\n12\n"
    }
   ],
   "source": [
    "# 動的計画法\n",
    "# Sample =[1,4,-3,4,8,2,-8]\n",
    "Sample=list(map(int,input().split()))\n",
    "\n",
    "#データ長\n",
    "N=len(Sample)\n",
    "\n",
    "#DP用配列\n",
    "dp=[0]*(N+1)\n",
    "\n",
    "#初期値設定\n",
    "dp[0]=0\n",
    "#動的計画法ループ\n",
    "for i in range(N):\n",
    "    dp[i+1]=max(dp[i]+Sample[i],dp[i])\n",
    "\n",
    "print(Sample)\n",
    "print(dp[N])"
   ]
  },
  {
   "cell_type": "code",
   "execution_count": 18,
   "metadata": {},
   "outputs": [
    {
     "output_type": "stream",
     "name": "stdout",
     "text": "9\n"
    }
   ],
   "source": [
    "# ナップザック問題\n",
    "\n",
    "# N=4\n",
    "# W=5\n",
    "N,W=map(int,input().split())\n",
    "# weight=[2,2,1,3]\n",
    "# values=[4,5,2,8]\n",
    "\n",
    "weight=[]\n",
    "values=[]\n",
    "\n",
    "for j in range(N):\n",
    "    v,w =map(int,input().split())\n",
    "    values.append(v)\n",
    "    weight.append(w)\n",
    "\n",
    "#DP配列設定\n",
    "DP=[]\n",
    "for i in range(N+1):\n",
    "    DP.append([0]*(W+1))\n",
    "\n",
    "# DP配列初期化(やらなくてもよい)\n",
    "for w in range(W+1):\n",
    "    DP[0][w]=0\n",
    "\n",
    "#動的計画法ループ\n",
    "for i in range(N):\n",
    "    for w in range(W+1):\n",
    "        if w >= weight[i]:\n",
    "            DP[i+1][w] = max( DP[i][w-weight[i]] + values[i], DP[i][w] )\n",
    "        else:\n",
    "            DP[i+1][w]=DP[i][w]\n",
    "print(max(max(DP)))"
   ]
  },
  {
   "cell_type": "code",
   "execution_count": 10,
   "metadata": {},
   "outputs": [
    {
     "output_type": "stream",
     "name": "stdout",
     "text": "[True, False, False, False, False, False, False, False, False, False, False]\n[True, True, False, False, False, False, False, False, False, False, False]\n[True, True, False, True, True, False, False, False, False, False, False]\n[True, True, False, True, True, False, True, True, False, True, True]\nTrue\n"
    }
   ],
   "source": [
    "n=3\n",
    "a=list(map(int,input().split()))\n",
    "A=10\n",
    "\n",
    "dp=[]\n",
    "for j in range(n+1):\n",
    "    dp.append([0]*(A+1))\n",
    "\n",
    "# 初期値設定\n",
    "dp[0][0]=True\n",
    "for k in range(A):\n",
    "    dp[0][k+1]=False\n",
    "\n",
    "for i in range(n):\n",
    "    for j in range(A+1):\n",
    "        if j >=a[i]:\n",
    "            dp[i+1][j]=dp[i][j-a[i]] or dp[i][j]\n",
    "        else:\n",
    "            dp[i+1][j]=dp[i][j]\n",
    "\n",
    "print(*dp, sep='\\n')\n",
    "print(dp[n][A])\n",
    ""
   ]
  },
  {
   "cell_type": "code",
   "execution_count": 24,
   "metadata": {},
   "outputs": [
    {
     "output_type": "stream",
     "name": "stdout",
     "text": "[1, 3, 4, 6, 2]\n[1, 0, 0, 0, 0, 0, 0, 0, 0, 0, 0, 0, 0]\n[1, 1, 0, 0, 0, 0, 0, 0, 0, 0, 0, 0, 0]\n[1, 1, 0, 1, 1, 0, 0, 0, 0, 0, 0, 0, 0]\n[1, 1, 0, 1, 2, 1, 0, 1, 1, 0, 0, 0, 0]\n[1, 1, 0, 1, 2, 1, 1, 2, 1, 1, 2, 1, 0]\n[1, 1, 1, 2, 2, 2, 3, 3, 2, 3, 3, 2, 2]\n2\n"
    }
   ],
   "source": [
    "n=5\n",
    "a=list(map(int,input().split()))\n",
    "A=12\n",
    "MOD =1000000009\n",
    "\n",
    "#動的計画法配列設定\n",
    "dp=[]\n",
    "for k in range(n+1):\n",
    "    dp.append([0]*(A+1))\n",
    "#初期値設定\n",
    "dp[0][0]=1\n",
    "for k in range(A):\n",
    "    dp[0][k+1]=0\n",
    "\n",
    "\n",
    "for i in range(n):\n",
    "    for j in range(A+1):\n",
    "        if j>=a[i]:\n",
    "            dp[i+1][j] = dp[i][j-a[i]]+dp[i][j]\n",
    "        else:\n",
    "            dp[i+1][j] = dp[i][j]\n",
    "\n",
    "print(a)\n",
    "print(*dp,sep=\"\\n\")\n",
    "print(dp[n][A]%MOD)\n",
    ""
   ]
  },
  {
   "cell_type": "code",
   "execution_count": 36,
   "metadata": {},
   "outputs": [
    {
     "output_type": "stream",
     "name": "stdout",
     "text": "[0, inf, inf, inf, inf, inf, inf, inf, inf, inf, inf, inf, inf]\n[0, inf, inf, inf, inf, inf, inf, 1, inf, inf, inf, inf, inf]\n[0, inf, inf, inf, inf, inf, 1, 1, inf, inf, inf, inf, inf]\n-1\n"
    }
   ],
   "source": [
    "a=list(map(int,input().split()))\n",
    "n=len(a)\n",
    "A=12 #int(input())\n",
    "\n",
    "#動的計画法配列\n",
    "dp=[]\n",
    "for k in range(n+1):\n",
    "    dp.append([0]*(A+1))\n",
    "\n",
    "dp[0][0]=0\n",
    "for k in range(A):\n",
    "    dp[0][k+1]=float('inf')\n",
    "\n",
    "for i in range(n):\n",
    "    for j in range(A+1):\n",
    "        if j >= a[i]:\n",
    "            dp[i+1][j]=min(dp[i][j-a[i]]+1,dp[i][j])\n",
    "        else:\n",
    "            dp[i+1][j]=dp[i][j]\n",
    "\n",
    "\n",
    "print(*dp,sep=\"\\n\")\n",
    "if dp[n][A]==float('inf'):\n",
    "    print(-1)\n",
    "else:\n",
    "    print(dp[n][A])\n",
    "\n",
    ""
   ]
  },
  {
   "cell_type": "code",
   "execution_count": 40,
   "metadata": {},
   "outputs": [
    {
     "output_type": "stream",
     "name": "stdout",
     "text": "[0, inf, inf, inf, inf, inf, inf, inf, inf, inf, inf]\n[0, inf, inf, 1, inf, inf, inf, inf, inf, inf, inf]\n[0, inf, inf, 1, inf, 1, inf, inf, 2, inf, inf]\n[0, inf, inf, 1, inf, 1, inf, 1, 2, inf, 2]\nNo\n"
    }
   ],
   "source": [
    "a=list(map(int,input().split()))\n",
    "n=len(a)\n",
    "A=10 #int(input())\n",
    "K=int(input())\n",
    "#動的計画法配列\n",
    "dp=[]\n",
    "for k in range(n+1):\n",
    "    dp.append([0]*(A+1))\n",
    "\n",
    "dp[0][0]=0\n",
    "for k in range(A):\n",
    "    dp[0][k+1]=float('inf')\n",
    "\n",
    "for i in range(n):\n",
    "    for j in range(A+1):\n",
    "        if j >= a[i]:\n",
    "            dp[i+1][j]=min(dp[i][j-a[i]]+1,dp[i][j])\n",
    "        else:\n",
    "            dp[i+1][j]=dp[i][j]\n",
    "\n",
    "\n",
    "print(*dp,sep=\"\\n\")\n",
    "if dp[n][A]<=K:\n",
    "    print('Yes')\n",
    "else:\n",
    "    print('No')\n",
    "\n",
    ""
   ]
  },
  {
   "cell_type": "code",
   "execution_count": null,
   "metadata": {},
   "outputs": [],
   "source": []
  }
 ]
}