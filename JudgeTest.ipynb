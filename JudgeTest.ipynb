{
 "nbformat": 4,
 "nbformat_minor": 2,
 "metadata": {
  "language_info": {
   "name": "python",
   "version": "3.7.6",
   "mimetype": "text/x-python",
   "codemirror_mode": {
    "name": "ipython",
    "version": 3
   },
   "pygments_lexer": "ipython3",
   "nbconvert_exporter": "python",
   "file_extension": ".py"
  },
  "orig_nbformat": 2,
  "file_extension": ".py",
  "mimetype": "text/x-python",
  "name": "python",
  "npconvert_exporter": "python",
  "pygments_lexer": "ipython3",
  "version": 3,
  "kernelspec": {
   "name": "python3",
   "display_name": "Python 3.7.6 64-bit ('py37': conda)"
  },
  "interpreter": {
   "hash": "3fbbaf2a139fb589b7ee249140ba19a9d0f52f87eb1854b6338dd0634e7e3c8d"
  }
 },
 "cells": [
  {
   "cell_type": "code",
   "execution_count": 1,
   "source": [
    "S,L,R=map(int,input().split())\r\n",
    "\r\n",
    "if S<L:\r\n",
    "    print(L)\r\n",
    "elif S>R:\r\n",
    "    print(R)\r\n",
    "else:\r\n",
    "    print(S)"
   ],
   "outputs": [
    {
     "output_type": "error",
     "ename": "SyntaxError",
     "evalue": "invalid syntax (<ipython-input-1-69c4c4b0b436>, line 5)",
     "traceback": [
      "\u001b[1;36m  File \u001b[1;32m\"<ipython-input-1-69c4c4b0b436>\"\u001b[1;36m, line \u001b[1;32m5\u001b[0m\n\u001b[1;33m    elif: S>R:\u001b[0m\n\u001b[1;37m        ^\u001b[0m\n\u001b[1;31mSyntaxError\u001b[0m\u001b[1;31m:\u001b[0m invalid syntax\n"
     ]
    }
   ],
   "metadata": {}
  },
  {
   "cell_type": "code",
   "execution_count": 10,
   "source": [
    "N=int(input())\r\n",
    "case=[]\r\n",
    "for i in range(N):\r\n",
    "    X,C=list(input().split())\r\n",
    "    case.append([int(X),C])\r\n",
    "\r\n",
    "case.sort(key=lambda x:x[0] )\r\n",
    "case.sort(key=lambda x:x[1] ,reverse=True )\r\n",
    "\r\n",
    "for j in range(N):\r\n",
    "    print(case[j][0],case[j][1])"
   ],
   "outputs": [
    {
     "output_type": "error",
     "ename": "ValueError",
     "evalue": "invalid literal for int() with base 10: ''",
     "traceback": [
      "\u001b[1;31m---------------------------------------------------------------------------\u001b[0m",
      "\u001b[1;31mValueError\u001b[0m                                Traceback (most recent call last)",
      "\u001b[1;32m<ipython-input-10-af2351d417d6>\u001b[0m in \u001b[0;36m<module>\u001b[1;34m\u001b[0m\n\u001b[1;32m----> 1\u001b[1;33m \u001b[0mN\u001b[0m\u001b[1;33m=\u001b[0m\u001b[0mint\u001b[0m\u001b[1;33m(\u001b[0m\u001b[0minput\u001b[0m\u001b[1;33m(\u001b[0m\u001b[1;33m)\u001b[0m\u001b[1;33m)\u001b[0m\u001b[1;33m\u001b[0m\u001b[1;33m\u001b[0m\u001b[0m\n\u001b[0m\u001b[0;32m      2\u001b[0m \u001b[0mcase\u001b[0m\u001b[1;33m=\u001b[0m\u001b[1;33m[\u001b[0m\u001b[1;33m]\u001b[0m\u001b[1;33m\u001b[0m\u001b[1;33m\u001b[0m\u001b[0m\n\u001b[0;32m      3\u001b[0m \u001b[1;32mfor\u001b[0m \u001b[0mi\u001b[0m \u001b[1;32min\u001b[0m \u001b[0mrange\u001b[0m\u001b[1;33m(\u001b[0m\u001b[0mN\u001b[0m\u001b[1;33m)\u001b[0m\u001b[1;33m:\u001b[0m\u001b[1;33m\u001b[0m\u001b[1;33m\u001b[0m\u001b[0m\n\u001b[0;32m      4\u001b[0m     \u001b[0mX\u001b[0m\u001b[1;33m,\u001b[0m\u001b[0mC\u001b[0m\u001b[1;33m=\u001b[0m\u001b[0mlist\u001b[0m\u001b[1;33m(\u001b[0m\u001b[0minput\u001b[0m\u001b[1;33m(\u001b[0m\u001b[1;33m)\u001b[0m\u001b[1;33m.\u001b[0m\u001b[0msplit\u001b[0m\u001b[1;33m(\u001b[0m\u001b[1;33m)\u001b[0m\u001b[1;33m)\u001b[0m\u001b[1;33m\u001b[0m\u001b[1;33m\u001b[0m\u001b[0m\n\u001b[0;32m      5\u001b[0m     \u001b[0mcase\u001b[0m\u001b[1;33m.\u001b[0m\u001b[0mappend\u001b[0m\u001b[1;33m(\u001b[0m\u001b[1;33m[\u001b[0m\u001b[0mint\u001b[0m\u001b[1;33m(\u001b[0m\u001b[0mX\u001b[0m\u001b[1;33m)\u001b[0m\u001b[1;33m,\u001b[0m\u001b[0mC\u001b[0m\u001b[1;33m]\u001b[0m\u001b[1;33m)\u001b[0m\u001b[1;33m\u001b[0m\u001b[1;33m\u001b[0m\u001b[0m\n",
      "\u001b[1;31mValueError\u001b[0m: invalid literal for int() with base 10: ''"
     ]
    }
   ],
   "metadata": {}
  },
  {
   "cell_type": "code",
   "execution_count": 11,
   "source": [
    "a_1,a_2,a_3 =map(int,input().split())\r\n",
    "N=a_1+a_2+a_3\r\n",
    "result =0\r\n",
    "\r\n",
    "for i in range(N):\r\n",
    "    for j in range(N-i):\r\n",
    "        for l in range(N-i-j):\r\n",
    "            for m in range(N-i-j-l):\r\n",
    "                for n in range(N-i-j-l-m):\r\n",
    "                    for p in range(N-i-j-l-m-n):\r\n",
    "                        for q in range(n-i-j-l-m-n-p):\r\n",
    "                            for o in range(n-i-j-l-m-n-p-q):\r\n",
    "                                r=N-i+j+l+m+n+p+q+o\r\n",
    "                                list_1=[i,j,l]\r\n",
    "                                list_2=[m,n,p]\r\n",
    "                                list_3=[q,o,r]\r\n",
    "                                if list_1[0]<list_1[1] and list_1[1]>\r\n",
    "\r\n"
   ],
   "outputs": [
    {
     "output_type": "error",
     "ename": "SyntaxError",
     "evalue": "unexpected EOF while parsing (<ipython-input-11-3397c8ff61f7>, line 5)",
     "traceback": [
      "\u001b[1;36m  File \u001b[1;32m\"<ipython-input-11-3397c8ff61f7>\"\u001b[1;36m, line \u001b[1;32m5\u001b[0m\n\u001b[1;33m    \u001b[0m\n\u001b[1;37m    ^\u001b[0m\n\u001b[1;31mSyntaxError\u001b[0m\u001b[1;31m:\u001b[0m unexpected EOF while parsing\n"
     ]
    }
   ],
   "metadata": {}
  },
  {
   "cell_type": "code",
   "execution_count": null,
   "source": [
    "import math\r\n",
    "\r\n",
    "N,Q=map(int,input().split())\r\n",
    "A=list(map(int,input().split()))\r\n",
    "S=list(map(int,input().split()))\r\n",
    "\r\n",
    "for i in range(Q):\r\n",
    "    X=S[i]\r\n",
    "    for j in range(N):\r\n",
    "        X=math.gcd(X,A[j])\r\n",
    "        if X==1:\r\n",
    "            print(j)\r\n",
    "            continue\r\n",
    "        if j==N-1 and X!=1\r\n",
    "            print(X)"
   ],
   "outputs": [],
   "metadata": {}
  },
  {
   "cell_type": "code",
   "execution_count": 8,
   "source": [
    "b = [[10, 11, 12, 13, 14],\r\n",
    "     [20, 21, 22, 23, 24],\r\n",
    "     [30, 31, 32, 33, 34],\r\n",
    "     [40, 41, 42, 43, 44]]\r\n",
    "for w in range(5):\r\n",
    "    print([r[w] for r in b])\r\n"
   ],
   "outputs": [
    {
     "output_type": "stream",
     "name": "stdout",
     "text": [
      "[10, 20, 30, 40]\n",
      "[11, 21, 31, 41]\n",
      "[12, 22, 32, 42]\n",
      "[13, 23, 33, 43]\n",
      "[14, 24, 34, 44]\n"
     ]
    }
   ],
   "metadata": {}
  },
  {
   "cell_type": "code",
   "execution_count": null,
   "source": [],
   "outputs": [],
   "metadata": {}
  }
 ]
}