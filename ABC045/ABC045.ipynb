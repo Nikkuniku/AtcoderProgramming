{
 "nbformat": 4,
 "nbformat_minor": 2,
 "metadata": {
  "language_info": {
   "name": "python",
   "codemirror_mode": {
    "name": "ipython",
    "version": 3
   },
   "version": "3.7.6-final"
  },
  "orig_nbformat": 2,
  "file_extension": ".py",
  "mimetype": "text/x-python",
  "name": "python",
  "npconvert_exporter": "python",
  "pygments_lexer": "ipython3",
  "version": 3,
  "kernelspec": {
   "name": "python37664bitpy37conda11566c697bcd42d7973894aecfc278e7",
   "display_name": "Python 3.7.6 64-bit ('py37': conda)"
  }
 },
 "cells": [
  {
   "cell_type": "code",
   "execution_count": 2,
   "metadata": {},
   "outputs": [
    {
     "output_type": "stream",
     "name": "stdout",
     "text": "7.0\n"
    }
   ],
   "source": [
    "a=int(input())\n",
    "b=int(input())\n",
    "h=int(input())\n",
    "\n",
    "print(int((a+b)*h/2))"
   ]
  },
  {
   "cell_type": "code",
   "execution_count": 1,
   "metadata": {},
   "outputs": [
    {
     "output_type": "stream",
     "name": "stdout",
     "text": "[['b', 'c', 'b'], ['a', 'a', 'c', 'b'], ['b', 'c', 'c', 'c']]\n[['b', 'c', 'b'], ['a', 'c', 'b'], ['b', 'c', 'c', 'c']]\n[['c', 'b'], ['a', 'c', 'b'], ['b', 'c', 'c', 'c']]\n[['c', 'b'], ['a', 'c', 'b'], ['c', 'c', 'c']]\n[['c', 'b'], ['a', 'c', 'b'], ['c', 'c']]\n[['c', 'b'], ['a', 'c', 'b'], ['c']]\n[['c', 'b'], ['a', 'c', 'b'], []]\nC\n"
    },
    {
     "output_type": "error",
     "ename": "IndexError",
     "evalue": "list index out of range",
     "traceback": [
      "\u001b[1;31m---------------------------------------------------------------------------\u001b[0m",
      "\u001b[1;31mIndexError\u001b[0m                                Traceback (most recent call last)",
      "\u001b[1;32m<ipython-input-1-1408cda4a38c>\u001b[0m in \u001b[0;36m<module>\u001b[1;34m\u001b[0m\n\u001b[0;32m      7\u001b[0m \u001b[0morder\u001b[0m\u001b[1;33m=\u001b[0m\u001b[1;36m0\u001b[0m\u001b[1;33m\u001b[0m\u001b[1;33m\u001b[0m\u001b[0m\n\u001b[0;32m      8\u001b[0m \u001b[1;32mwhile\u001b[0m \u001b[1;32mTrue\u001b[0m\u001b[1;33m:\u001b[0m\u001b[1;33m\u001b[0m\u001b[1;33m\u001b[0m\u001b[0m\n\u001b[1;32m----> 9\u001b[1;33m     \u001b[1;32mif\u001b[0m \u001b[0mS\u001b[0m\u001b[1;33m[\u001b[0m\u001b[0morder\u001b[0m\u001b[1;33m]\u001b[0m\u001b[1;33m[\u001b[0m\u001b[1;36m0\u001b[0m\u001b[1;33m]\u001b[0m\u001b[1;33m==\u001b[0m\u001b[1;34m'a'\u001b[0m\u001b[1;33m:\u001b[0m\u001b[1;33m\u001b[0m\u001b[1;33m\u001b[0m\u001b[0m\n\u001b[0m\u001b[0;32m     10\u001b[0m         \u001b[1;32mdel\u001b[0m \u001b[0mS\u001b[0m\u001b[1;33m[\u001b[0m\u001b[1;36m0\u001b[0m\u001b[1;33m]\u001b[0m\u001b[1;33m[\u001b[0m\u001b[1;36m0\u001b[0m\u001b[1;33m]\u001b[0m\u001b[1;33m\u001b[0m\u001b[1;33m\u001b[0m\u001b[0m\n\u001b[0;32m     11\u001b[0m         \u001b[0morder\u001b[0m\u001b[1;33m=\u001b[0m\u001b[1;36m0\u001b[0m\u001b[1;33m\u001b[0m\u001b[1;33m\u001b[0m\u001b[0m\n",
      "\u001b[1;31mIndexError\u001b[0m: list index out of range"
     ]
    }
   ],
   "source": [
    "s_a = list(input())\n",
    "s_b = list(input())\n",
    "s_c = list(input())\n",
    "\n",
    "S=[s_a,s_b,s_c]\n",
    "\n",
    "order=0\n",
    "while len(s_a)!= 0 and len(s_b)!=0 and len(s_c)!=0:\n",
    "    if S[order][0]=='a':\n",
    "        del S[0][0]\n",
    "        order=0\n",
    "    elif S[order][0]=='b':\n",
    "        del S[1][0]\n",
    "        order=1\n",
    "    else:\n",
    "        del S[2][0]\n",
    "        order=2\n",
    "\n",
    "    if len(S[0])==0:\n",
    "        print('A')\n",
    "        exit(0)\n",
    "    elif len(S[1])==0:\n",
    "        print('B')\n",
    "        exit(0)\n",
    "    elif len(S[2])==0:\n",
    "        print('C')\n",
    "        exit(0)\n",
    "\n"
   ]
  },
  {
   "cell_type": "code",
   "execution_count": 25,
   "metadata": {},
   "outputs": [
    {
     "output_type": "stream",
     "name": "stdout",
     "text": "[1]\n[2]\n[1, 2]\n[5]\n[1, 5]\n[2, 5]\n[1, 2, 5]\n32\n"
    }
   ],
   "source": [
    "#C問題\n",
    "\n",
    "S=list(input())\n",
    "N=len(S)\n",
    "total=0\n",
    "for i in range(1 << len(S)):\n",
    "    output = []\n",
    "    for j in range(len(S)):\n",
    "        if ((i >> j) & 1) == 1:\n",
    "            output.append(int(S[j]))\n",
    "    \n",
    "    if len(output)==0:\n",
    "        continue\n",
    "    print(output)\n",
    "    total+= sum(output)\n",
    "\n",
    "print(total)"
   ]
  },
  {
   "cell_type": "code",
   "execution_count": 58,
   "metadata": {},
   "outputs": [
    {
     "output_type": "stream",
     "name": "stdout",
     "text": "--\n['1', '-', '+', '-', '-', '+', '+', '+', '-', '-', '2', '-', '3']\n-+\n['1', '+', '-', '-', '+', '-', '-', '+', '+', '+', '-', '-', '2', '-', '3']\n+-\n['1', '-', '+', '+', '-', '-', '+', '-', '-', '+', '+', '+', '-', '-', '2', '-', '3']\n++\n['1', '+', '-', '+', '+', '+', '-', '-', '+', '-', '-', '+', '+', '+', '-', '-', '2', '-', '3']\n"
    }
   ],
   "source": [
    "S=list(input())\n",
    "N=len(S)\n",
    "\n",
    "cnt=0\n",
    "\n",
    "for i in range(2**(N-1)):\n",
    "    S=tmp\n",
    "    cnt=0\n",
    "    bin_str = format(i,'0{}b'.format(N-1))\n",
    "    bin_str=bin_str.replace('0','-')\n",
    "    bin_str=bin_str.replace('1','+')\n",
    "    print(bin_str)\n",
    "    for i in range(N-1, 0, -1):\n",
    "        if cnt<len(bin_str):\n",
    "            S.insert(i, bin_str[cnt])\n",
    "            cnt+=1\n",
    "        else:\n",
    "            break\n",
    "    print(S)"
   ]
  },
  {
   "cell_type": "code",
   "execution_count": 66,
   "metadata": {},
   "outputs": [
    {
     "output_type": "stream",
     "name": "stdout",
     "text": "12656242944\n"
    }
   ],
   "source": [
    "S=input()\n",
    "t=len(S)-1\n",
    "sum = 0\n",
    "for bit in range(2**t):\n",
    "    f=S[0]\n",
    "\n",
    "    for i in range(t):\n",
    "        if bit &(1<<i):\n",
    "            f+='+'\n",
    "        f+=S[i+1]\n",
    "    \n",
    "    sum+=eval(f)\n",
    "\n",
    "print(sum)"
   ]
  },
  {
   "cell_type": "code",
   "execution_count": 63,
   "metadata": {},
   "outputs": [
    {
     "output_type": "stream",
     "name": "stdout",
     "text": "0\n1\n2\n3\n"
    }
   ],
   "source": [
    "n=int(input())\n",
    "\n",
    "for bit in range(1 << n):\n",
    "    print(bit)"
   ]
  },
  {
   "cell_type": "code",
   "execution_count": null,
   "metadata": {},
   "outputs": [],
   "source": []
  }
 ]
}