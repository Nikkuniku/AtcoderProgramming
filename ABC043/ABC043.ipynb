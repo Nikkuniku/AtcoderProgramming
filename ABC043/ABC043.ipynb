{
 "nbformat": 4,
 "nbformat_minor": 2,
 "metadata": {
  "language_info": {
   "name": "python",
   "codemirror_mode": {
    "name": "ipython",
    "version": 3
   },
   "version": "3.7.6-final"
  },
  "orig_nbformat": 2,
  "file_extension": ".py",
  "mimetype": "text/x-python",
  "name": "python",
  "npconvert_exporter": "python",
  "pygments_lexer": "ipython3",
  "version": 3,
  "kernelspec": {
   "name": "python37664bitpy37conda11566c697bcd42d7973894aecfc278e7",
   "display_name": "Python 3.7.6 64-bit ('py37': conda)"
  }
 },
 "cells": [
  {
   "cell_type": "code",
   "execution_count": 2,
   "metadata": {},
   "outputs": [
    {
     "output_type": "stream",
     "name": "stdout",
     "text": "15\n"
    }
   ],
   "source": [
    "N=int(input())\n",
    "sum=0\n",
    "for i in range(N+1):\n",
    "    sum+=i\n",
    "print(sum)\n",
    ""
   ]
  },
  {
   "cell_type": "code",
   "execution_count": 5,
   "metadata": {},
   "outputs": [
    {
     "output_type": "stream",
     "name": "stdout",
     "text": "1\n"
    }
   ],
   "source": [
    "s=input()\n",
    "\n",
    "out=''\n",
    "for i in range(len(s)):\n",
    "    if s[i]!='B':\n",
    "        out+='{}'.format(s[i])\n",
    "    else:\n",
    "        out= out[:-1]\n",
    "print(out)"
   ]
  },
  {
   "cell_type": "code",
   "execution_count": 10,
   "metadata": {},
   "outputs": [
    {
     "output_type": "stream",
     "name": "stdout",
     "text": "5\n"
    }
   ],
   "source": [
    "N=int(input())\n",
    "A_s =list(map(int,input().split()))\n",
    "\n",
    "from statistics import mean\n",
    "c_n =mean(A_s)\n",
    "c_n = round(c_n)\n",
    "cost = 0\n",
    "for i in range(N):\n",
    "    cost+=(A_s[i]-c_n)**2\n",
    "print(cost)\n",
    "\n",
    ""
   ]
  },
  {
   "cell_type": "code",
   "execution_count": 35,
   "metadata": {},
   "outputs": [
    {
     "output_type": "stream",
     "name": "stdout",
     "text": "1\n4\n1 4\n"
    }
   ],
   "source": [
    "\n",
    "s=nput()\n",
    "import collections\n",
    "c_s=collections.Counter(list(s))\n",
    "max_str = max(c_s,key=c_s.get)\n",
    "\n",
    "# print(s.find(max_str))\n",
    "# print(s.rfind(max_str))\n",
    "\n",
    "new_s = s[s.find(max_str):s.rfind(max_str)+1]\n",
    "\n",
    "if max(c_s.values()) >= s.count(max_str):\n",
    "    print(s.find(max_str),s.rfind(max_str))"
   ]
  },
  {
   "cell_type": "code",
   "execution_count": null,
   "metadata": {},
   "outputs": [],
   "source": []
  }
 ]
}