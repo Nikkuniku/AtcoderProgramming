{
 "nbformat": 4,
 "nbformat_minor": 2,
 "metadata": {
  "language_info": {
   "name": "python",
   "codemirror_mode": {
    "name": "ipython",
    "version": 3
   },
   "version": "3.7.6-final"
  },
  "orig_nbformat": 2,
  "file_extension": ".py",
  "mimetype": "text/x-python",
  "name": "python",
  "npconvert_exporter": "python",
  "pygments_lexer": "ipython3",
  "version": 3,
  "kernelspec": {
   "name": "python37664bitpy37conda11566c697bcd42d7973894aecfc278e7",
   "display_name": "Python 3.7.6 64-bit ('py37': conda)"
  }
 },
 "cells": [
  {
   "cell_type": "code",
   "execution_count": 1,
   "metadata": {},
   "outputs": [],
   "source": [
    "S=\"erasedream\"\n",
    "length=len(S)\n",
    "\n",
    "\n",
    "import re"
   ]
  },
  {
   "cell_type": "code",
   "execution_count": 9,
   "metadata": {},
   "outputs": [
    {
     "output_type": "stream",
     "name": "stdout",
     "text": "YES\n"
    }
   ],
   "source": [
    "import re\n",
    "\n",
    "S=input('入力してください')\n",
    "\n",
    "S=re.sub('eraser','',S)\n",
    "S=re.sub('erase','',S)\n",
    "S=re.sub('dreamer','',S)\n",
    "S=re.sub('dream','',S)\n",
    "\n",
    "if len(S)==0:\n",
    "    print('YES')\n",
    "else:\n",
    "    print('No')"
   ]
  },
  {
   "cell_type": "code",
   "execution_count": 50,
   "metadata": {},
   "outputs": [
    {
     "output_type": "stream",
     "name": "stdout",
     "text": "[1, 3]\n[0, 2, 4, 6]\nYes\n"
    }
   ],
   "source": [
    "N=int(input())\n",
    "\n",
    "li=[]\n",
    "for j in range(N):\n",
    "  li.append(list(map(int,input().split())))\n",
    "\n",
    "\n",
    "Start=[0,0]\n",
    "flg=0\n",
    "odd = [i for i in range(1, li[k][0]+1, 2)]\n",
    "\n",
    "for k in range(N):\n",
    "    if li[k][0]%2==0:\n",
    "        odd = [i for i in range(0, li[k][0]+1, 2)]\n",
    "    for i in range(-(li[k][0]+1),li[k][0]+1):\n",
    "        if abs(i)+abs(3-i) in odd:\n",
    "            if i==Start[0]+li[k][1] and j==Start[1]+li[k][2]:\n",
    "                Start[0]+=i\n",
    "                Start[1]+=j\n",
    "            if Start[0]==li[k][1] and Start[1]=li[k][2]:\n",
    "                    flg=1\n",
    "\n",
    "if flg==1:\n",
    "    print('Yes')\n",
    "else:\n",
    "    print('NO')"
   ]
  },
  {
   "cell_type": "code",
   "execution_count": null,
   "metadata": {},
   "outputs": [],
   "source": [
    "N=int(input())\n",
    "\n",
    "t,x,y = 0,0,0\n",
    "\n",
    "for i in range(N):\n",
    "    next_t,next_x,next_y = map(int,input().split())\n",
    "    diff= abs(next_x-x)+abs(next_y-y)\n",
    "    if diff > (next_t-t )or (next_t-t+diff)%2!=0:\n",
    "        flg=1\n",
    "        exit()\n",
    "    t=next_t\n",
    "    x=next_x\n",
    "    y=next_y\n",
    "\n",
    "if flg==0:\n",
    "    print('YES')\n",
    "else:\n",
    "    print('NO')"
   ]
  }
 ]
}