{
 "nbformat": 4,
 "nbformat_minor": 2,
 "metadata": {
  "language_info": {
   "name": "python",
   "codemirror_mode": {
    "name": "ipython",
    "version": 3
   },
   "version": "3.7.6-final"
  },
  "orig_nbformat": 2,
  "file_extension": ".py",
  "mimetype": "text/x-python",
  "name": "python",
  "npconvert_exporter": "python",
  "pygments_lexer": "ipython3",
  "version": 3,
  "kernelspec": {
   "name": "python37664bitpy37conda11566c697bcd42d7973894aecfc278e7",
   "display_name": "Python 3.7.6 64-bit ('py37': conda)"
  }
 },
 "cells": [
  {
   "cell_type": "code",
   "execution_count": 1,
   "metadata": {},
   "outputs": [
    {
     "output_type": "stream",
     "name": "stdout",
     "text": "3 1 2\n"
    }
   ],
   "source": [
    "X,Y,Z = map(int,input().split())\n",
    "\n",
    "tmp=X\n",
    "X=Z\n",
    "Z=Y\n",
    "Y=tmp\n",
    "\n",
    "print(\"{0} {1} {2}\".format(X,Y,Z))\n",
    "\n",
    ""
   ]
  },
  {
   "cell_type": "code",
   "execution_count": 2,
   "metadata": {},
   "outputs": [
    {
     "output_type": "error",
     "ename": "SyntaxError",
     "evalue": "invalid syntax (<ipython-input-2-d178adb05682>, line 1)",
     "traceback": [
      "\u001b[1;36m  File \u001b[1;32m\"<ipython-input-2-d178adb05682>\"\u001b[1;36m, line \u001b[1;32m1\u001b[0m\n\u001b[1;33m    4 1\u001b[0m\n\u001b[1;37m      ^\u001b[0m\n\u001b[1;31mSyntaxError\u001b[0m\u001b[1;31m:\u001b[0m invalid syntax\n"
     ]
    }
   ],
   "source": [
    "4 1\n",
    "5 4 2 1"
   ]
  },
  {
   "cell_type": "code",
   "execution_count": 4,
   "metadata": {},
   "outputs": [
    {
     "output_type": "error",
     "ename": "SyntaxError",
     "evalue": "invalid syntax (<ipython-input-4-32f7d2d46665>, line 4)",
     "traceback": [
      "\u001b[1;36m  File \u001b[1;32m\"<ipython-input-4-32f7d2d46665>\"\u001b[1;36m, line \u001b[1;32m4\u001b[0m\n\u001b[1;33m    total_vote= sum(vote_list)\u001b[0m\n\u001b[1;37m             ^\u001b[0m\n\u001b[1;31mSyntaxError\u001b[0m\u001b[1;31m:\u001b[0m invalid syntax\n"
     ]
    }
   ],
   "source": [
    "N,M =map(int,input().split())\n",
    "vote_list = list(map(int,input().split()))\n",
    "                 \n",
    "total=sum(vote_list)\n",
    "popular_list = list(filter(lambda x: x>=total/(4*M),vote_list ))\n",
    "\n",
    "if(len(popular_list)<M):\n",
    "    print(\"No\")\n",
    "else:\n",
    "    print(\"Yes\")\n",
    "\n"
   ]
  },
  {
   "cell_type": "code",
   "execution_count": 5,
   "metadata": {},
   "outputs": [
    {
     "output_type": "error",
     "ename": "ValueError",
     "evalue": "not enough values to unpack (expected 2, got 0)",
     "traceback": [
      "\u001b[1;31m---------------------------------------------------------------------------\u001b[0m",
      "\u001b[1;31mValueError\u001b[0m                                Traceback (most recent call last)",
      "\u001b[1;32m<ipython-input-5-89e55fafa0a4>\u001b[0m in \u001b[0;36m<module>\u001b[1;34m\u001b[0m\n\u001b[1;32m----> 1\u001b[1;33m \u001b[0mN\u001b[0m\u001b[1;33m,\u001b[0m\u001b[0mK\u001b[0m \u001b[1;33m=\u001b[0m \u001b[0mmap\u001b[0m\u001b[1;33m(\u001b[0m\u001b[0mint\u001b[0m\u001b[1;33m,\u001b[0m\u001b[0minput\u001b[0m\u001b[1;33m(\u001b[0m\u001b[1;33m)\u001b[0m\u001b[1;33m.\u001b[0m\u001b[0msplit\u001b[0m\u001b[1;33m(\u001b[0m\u001b[1;33m)\u001b[0m\u001b[1;33m)\u001b[0m\u001b[1;33m\u001b[0m\u001b[1;33m\u001b[0m\u001b[0m\n\u001b[0m\u001b[0;32m      2\u001b[0m \u001b[1;33m\u001b[0m\u001b[0m\n\u001b[0;32m      3\u001b[0m \u001b[0mdiv\u001b[0m \u001b[1;33m=\u001b[0m\u001b[0mN\u001b[0m\u001b[1;33m//\u001b[0m\u001b[0mK\u001b[0m\u001b[1;33m\u001b[0m\u001b[1;33m\u001b[0m\u001b[0m\n\u001b[0;32m      4\u001b[0m \u001b[0mN\u001b[0m\u001b[1;33m=\u001b[0m\u001b[0mN\u001b[0m\u001b[1;33m-\u001b[0m\u001b[0mdiv\u001b[0m\u001b[1;33m*\u001b[0m\u001b[0mK\u001b[0m\u001b[1;33m\u001b[0m\u001b[1;33m\u001b[0m\u001b[0m\n\u001b[0;32m      5\u001b[0m \u001b[1;33m\u001b[0m\u001b[0m\n",
      "\u001b[1;31mValueError\u001b[0m: not enough values to unpack (expected 2, got 0)"
     ]
    }
   ],
   "source": [
    "N,K = map(int,input().split())\n",
    "\n",
    "div =N//K\n",
    "N=N-div*K\n",
    "\n",
    "if K!=1:\n",
    "    while True:\n",
    "        N=abs(N-K)\n",
    "        tmp=N\n",
    "        if abs(N-K)>tmp:\n",
    "            print(tmp)\n",
    "            exit(0)\n",
    "else:\n",
    "    print(0)"
   ]
  },
  {
   "cell_type": "code",
   "execution_count": null,
   "metadata": {},
   "outputs": [],
   "source": [
    "K = int(input())\n",
    "\n",
    "lunlun=1\n",
    "cnt =1\n",
    "flg=0\n",
    "while True:\n",
    "    S=str(lunlun)\n",
    "    if len(S)==1:\n",
    "        lunlun+=1\n",
    "        cnt+=1\n",
    "    else:\n",
    "        for j in range(len(S)-1):\n",
    "            if abs(int(S[j])-int(S[j+1]))<=1:\n",
    "                flg+=1\n",
    "        if flg==len(S)-1:\n",
    "            lunlun+=1\n",
    "            cnt+=1\n",
    "    \n",
    "    if cnt==K:\n",
    "        print(lunlun)\n",
    "        exit(0)\n",
    ""
   ]
  },
  {
   "cell_type": "code",
   "execution_count": 2,
   "metadata": {},
   "outputs": [
    {
     "output_type": "stream",
     "name": "stdout",
     "text": "0b10001111\n0b10010000\n"
    }
   ],
   "source": [
    "print(bin(143))\n",
    "print(bin(144))"
   ]
  },
  {
   "cell_type": "code",
   "execution_count": null,
   "metadata": {},
   "outputs": [],
   "source": []
  }
 ]
}