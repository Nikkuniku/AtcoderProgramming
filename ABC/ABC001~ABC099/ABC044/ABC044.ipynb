{
 "nbformat": 4,
 "nbformat_minor": 2,
 "metadata": {
  "language_info": {
   "name": "python",
   "codemirror_mode": {
    "name": "ipython",
    "version": 3
   },
   "version": "3.7.6-final"
  },
  "orig_nbformat": 2,
  "file_extension": ".py",
  "mimetype": "text/x-python",
  "name": "python",
  "npconvert_exporter": "python",
  "pygments_lexer": "ipython3",
  "version": 3,
  "kernelspec": {
   "name": "python37664bitpy37conda11566c697bcd42d7973894aecfc278e7",
   "display_name": "Python 3.7.6 64-bit ('py37': conda)"
  }
 },
 "cells": [
  {
   "cell_type": "code",
   "execution_count": 1,
   "metadata": {},
   "outputs": [
    {
     "output_type": "stream",
     "name": "stdout",
     "text": "1000\n"
    }
   ],
   "source": [
    "N=int(input())\n",
    "K=int(input())\n",
    "X=int(input())\n",
    "Y=int(input())\n",
    "\n",
    "if N>=K:\n",
    "    print(X*K + Y*(N-K))\n",
    "else:\n",
    "    print(X*N)"
   ]
  },
  {
   "cell_type": "code",
   "execution_count": 8,
   "metadata": {},
   "outputs": [
    {
     "output_type": "stream",
     "name": "stdout",
     "text": "Yes\n"
    }
   ],
   "source": [
    "import collections \n",
    "\n",
    "w=input()\n",
    "\n",
    "l=collections.Counter(list(w))\n",
    "l=list(l.values())\n",
    "flg=0\n",
    "for i in range(len(l)):\n",
    "    if l[i]%2!=0:\n",
    "        flg+=1\n",
    "\n",
    "if flg==0:\n",
    "    print('Yes')\n",
    "else:\n",
    "    pritn('No')\n",
    ""
   ]
  },
  {
   "cell_type": "code",
   "execution_count": 19,
   "metadata": {},
   "outputs": [
    {
     "output_type": "stream",
     "name": "stdout",
     "text": "[[1], [1, 4], [1, 5], [1, 5, 4], [1, 5, 6], [1, 5, 6, 4], [1, 6], [1, 6, 4], [4], [5], [5, 4], [5, 6], [5, 6, 4], [6], [6, 4]]\n"
    }
   ],
   "source": [
    "N,A=map(int,input().split())\n",
    "cards=list(map(int,input().split()))\n",
    "\n",
    "result=0\n",
    "lists=[]\n",
    "\n",
    "import numpy as np\n",
    "\n",
    "\n",
    "for i in range(2**N):\n",
    "    list2 =[]\n",
    "    for j in range(N):\n",
    "        if (i >> j) &1 == 1:\n",
    "            list2.append(cards[j])\n",
    "            lists.append(list2)\n",
    "\n",
    "lists=np.array(lists)\n",
    "unique_array = np.unique(lists)\n",
    "lists=unique_array.tolist()\n",
    "\n",
    "for j in range(len(lists)):\n",
    "    ave = sum(lists[j])/len(lists[j])\n",
    "    if ave ==A:\n",
    "        result+=1\n",
    "\n",
    "print(result)"
   ]
  },
  {
   "cell_type": "code",
   "execution_count": 7,
   "metadata": {},
   "outputs": [
    {
     "output_type": "stream",
     "name": "stdout",
     "text": "[[[0], [0], [0], [0], [0], [0], [0], [0], [0], [0], [0], [0], [0], [0], [0], [0], [0], [0], [0], [0], [0], [0], [0], [0], [0], [0], [0], [0], [0], [0]]]\n"
    }
   ],
   "source": [
    "N=3\n",
    "A=5\n",
    "\n",
    "for i in range(N*A)\n",
    "\n",
    "print(dp)"
   ]
  },
  {
   "cell_type": "code",
   "execution_count": null,
   "metadata": {},
   "outputs": [],
   "source": []
  }
 ]
}