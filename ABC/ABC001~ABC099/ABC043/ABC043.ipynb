{
 "cells": [
  {
   "cell_type": "code",
   "execution_count": 2,
   "metadata": {},
   "outputs": [
    {
     "name": "stdout",
     "output_type": "stream",
     "text": [
      "15\n"
     ]
    }
   ],
   "source": [
    "N=int(input())\n",
    "sum=0\n",
    "for i in range(N+1):\n",
    "    sum+=i\n",
    "print(sum)\n"
   ]
  },
  {
   "cell_type": "code",
   "execution_count": 5,
   "metadata": {},
   "outputs": [
    {
     "name": "stdout",
     "output_type": "stream",
     "text": [
      "1\n"
     ]
    }
   ],
   "source": [
    "s=input()\n",
    "\n",
    "out=''\n",
    "for i in range(len(s)):\n",
    "    if s[i]!='B':\n",
    "        out+='{}'.format(s[i])\n",
    "    else:\n",
    "        out= out[:-1]\n",
    "print(out)"
   ]
  },
  {
   "cell_type": "code",
   "execution_count": 10,
   "metadata": {},
   "outputs": [
    {
     "name": "stdout",
     "output_type": "stream",
     "text": [
      "5\n"
     ]
    }
   ],
   "source": [
    "N=int(input())\n",
    "A_s =list(map(int,input().split()))\n",
    "\n",
    "from statistics import mean\n",
    "c_n =mean(A_s)\n",
    "c_n = round(c_n)\n",
    "cost = 0\n",
    "for i in range(N):\n",
    "    cost+=(A_s[i]-c_n)**2\n",
    "print(cost)\n",
    "\n"
   ]
  },
  {
   "cell_type": "code",
   "execution_count": 35,
   "metadata": {},
   "outputs": [
    {
     "name": "stdout",
     "output_type": "stream",
     "text": [
      "1\n",
      "4\n",
      "1 4\n"
     ]
    }
   ],
   "source": [
    "\n",
    "s=input()\n",
    "import collections\n",
    "c_s=collections.Counter(list(s))\n",
    "max_str = max(c_s,key=c_s.get)\n",
    "\n",
    "# print(s.find(max_str))\n",
    "# print(s.rfind(max_str))\n",
    "\n",
    "new_s = s[s.find(max_str):s.rfind(max_str)+1]\n",
    "\n",
    "if max(c_s.values()) >= s.count(max_str):\n",
    "    print(s.find(max_str),s.rfind(max_str))"
   ]
  },
  {
   "cell_type": "code",
   "execution_count": null,
   "metadata": {},
   "outputs": [],
   "source": []
  }
 ],
 "metadata": {
  "file_extension": ".py",
  "kernelspec": {
   "display_name": "Python 3.9.7 ('python-env')",
   "language": "python",
   "name": "python3"
  },
  "language_info": {
   "codemirror_mode": {
    "name": "ipython",
    "version": 3
   },
   "name": "python",
   "version": "3.9.7"
  },
  "mimetype": "text/x-python",
  "name": "python",
  "npconvert_exporter": "python",
  "orig_nbformat": 2,
  "pygments_lexer": "ipython3",
  "version": 3,
  "vscode": {
   "interpreter": {
    "hash": "df38c702557f5b25e096ba1584ff0819bb244dae9d843ccf2cbd54cd1f2f7172"
   }
  }
 },
 "nbformat": 4,
 "nbformat_minor": 2
}
