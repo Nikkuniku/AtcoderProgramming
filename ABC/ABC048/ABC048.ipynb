{
 "nbformat": 4,
 "nbformat_minor": 2,
 "metadata": {
  "language_info": {
   "name": "python",
   "codemirror_mode": {
    "name": "ipython",
    "version": 3
   },
   "version": "3.7.6-final"
  },
  "orig_nbformat": 2,
  "file_extension": ".py",
  "mimetype": "text/x-python",
  "name": "python",
  "npconvert_exporter": "python",
  "pygments_lexer": "ipython3",
  "version": 3,
  "kernelspec": {
   "name": "python3",
   "display_name": "Python 3"
  }
 },
 "cells": [
  {
   "cell_type": "code",
   "execution_count": 2,
   "metadata": {},
   "outputs": [
    {
     "output_type": "stream",
     "name": "stdout",
     "text": "ABC\n"
    }
   ],
   "source": [
    "a,b,c = input().split()\n",
    "\n",
    "middle = b.capitalize()\n",
    "\n",
    "print(\"A{}C\".format(middle[0]))"
   ]
  },
  {
   "cell_type": "code",
   "execution_count": 39,
   "metadata": {},
   "outputs": [
    {
     "output_type": "stream",
     "name": "stdout",
     "text": "3\n"
    }
   ],
   "source": [
    "a,b,x = map(int,input().split())\n",
    "\n",
    "q_b = b//x\n",
    "q_a = a//x\n",
    "r_a = a%x\n",
    "if x==1:\n",
    "    print(b-a+1)\n",
    "else:\n",
    "    if r_a == 0:\n",
    "        print(q_b-q_a + 1 )\n",
    "    else:\n",
    "        print(q_b-q_a)"
   ]
  },
  {
   "cell_type": "code",
   "execution_count": 34,
   "metadata": {},
   "outputs": [
    {
     "output_type": "execute_result",
     "data": {
      "text/plain": "333333333333333333"
     },
     "metadata": {},
     "execution_count": 34
    }
   ],
   "source": [
    "1000000000000000000//3"
   ]
  },
  {
   "cell_type": "code",
   "execution_count": 23,
   "metadata": {},
   "outputs": [
    {
     "output_type": "execute_result",
     "data": {
      "text/plain": "999999999999999936"
     },
     "metadata": {},
     "execution_count": 23
    }
   ],
   "source": [
    "333333333333333312*3"
   ]
  },
  {
   "cell_type": "code",
   "execution_count": 31,
   "metadata": {},
   "outputs": [
    {
     "output_type": "execute_result",
     "data": {
      "text/plain": "999999999999999999"
     },
     "metadata": {},
     "execution_count": 31
    }
   ],
   "source": [
    "333333333333333333*3"
   ]
  },
  {
   "cell_type": "code",
   "execution_count": null,
   "metadata": {},
   "outputs": [],
   "source": []
  }
 ]
}